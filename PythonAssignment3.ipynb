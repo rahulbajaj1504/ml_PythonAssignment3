{
  "nbformat": 4,
  "nbformat_minor": 0,
  "metadata": {
    "colab": {
      "name": "PythonAssignment3.ipynb",
      "provenance": []
    },
    "kernelspec": {
      "name": "python3",
      "display_name": "Python 3"
    }
  },
  "cells": [
    {
      "cell_type": "markdown",
      "metadata": {
        "id": "fy-ysxUlKAxr",
        "colab_type": "text"
      },
      "source": [
        "1.1 Write a Python Program to implement your own myreduce() function which works exactly\n",
        "like Python's built-in function reduce()"
      ]
    },
    {
      "cell_type": "code",
      "metadata": {
        "id": "iBIys3mFJszX",
        "colab_type": "code",
        "colab": {
          "base_uri": "https://localhost:8080/",
          "height": 34
        },
        "outputId": "538b9f78-310e-439f-b301-7560522ed198"
      },
      "source": [
        "def myreduce(fun, alist):\n",
        "    x = alist[0]\n",
        "    \n",
        "    for i in range(1, len(alist)):\n",
        "        x = fun(x, alist[i])\n",
        "    \n",
        "    return x\n",
        "\n",
        "def summ(x1, x2):\n",
        "    return x1 + x2\n",
        "\n",
        "a = [1, 2, 3, 4, 5]\n",
        "\n",
        "myreduce(summ,a)"
      ],
      "execution_count": null,
      "outputs": [
        {
          "output_type": "execute_result",
          "data": {
            "text/plain": [
              "15"
            ]
          },
          "metadata": {
            "tags": []
          },
          "execution_count": 4
        }
      ]
    },
    {
      "cell_type": "markdown",
      "metadata": {
        "id": "ELdwVg6eK0hX",
        "colab_type": "text"
      },
      "source": [
        "1.2 Write a Python program to implement your own myfilter() function which works exactly like Python's built-in function filter()"
      ]
    },
    {
      "cell_type": "code",
      "metadata": {
        "id": "5mTZzMU4Kffg",
        "colab_type": "code",
        "colab": {
          "base_uri": "https://localhost:8080/",
          "height": 34
        },
        "outputId": "8fc553c8-aad8-4950-ffb6-cad1e1fd2891"
      },
      "source": [
        "def myfilter(fun, alist):\n",
        "    x = []\n",
        "    y = []\n",
        "    \n",
        "    for i in alist:\n",
        "        x.append(fun(i))\n",
        "    for i in range(0, len(x)): \n",
        "        if x[i] == False:\n",
        "            continue       \n",
        "        else:\n",
        "            y.append(x[i])   \n",
        "    return y\n",
        "        \n",
        "def a(i):   \n",
        "    if i%5==0:\n",
        "        return i \n",
        "    else:\n",
        "        return False\n",
        "\n",
        "print(myfilter(a, [2, 5, 6, 4, 10, 15, 12, 35, 124, 120]))\n"
      ],
      "execution_count": null,
      "outputs": [
        {
          "output_type": "stream",
          "text": [
            "[5, 10, 15, 35, 120]\n"
          ],
          "name": "stdout"
        }
      ]
    },
    {
      "cell_type": "markdown",
      "metadata": {
        "id": "ftHfWOfCLY01",
        "colab_type": "text"
      },
      "source": [
        "2. Implement List comprehensions to produce the following lists.    \n",
        "Write List comprehensions to produce the following Lists    \n",
        "['A', 'C', 'A', 'D', 'G', 'I', ’L’, ‘ D’]   \n",
        "['x', 'xx', 'xxx', 'xxxx', 'y', 'yy', 'yyy', 'yyyy', 'z', 'zz', 'zzz', 'zzzz']   \n",
        "['x', 'y', 'z', 'xx', 'yy', 'zz', 'xxx', 'yyy', 'zzz', 'xxxx', 'yyyy', 'zzzz']     \n",
        "[[2], [3], [4], [3], [4], [5], [4], [5], [6]]    \n",
        "[[2, 3, 4, 5], [3, 4, 5, 6], [4, 5, 6, 7], [5, 6, 7, 8]]    \n",
        "[(1, 1), (2, 1), (3, 1), (1, 2), (2, 2), (3, 2), (1, 3), (2, 3), (3, 3)] \n",
        "\n"
      ]
    },
    {
      "cell_type": "code",
      "metadata": {
        "id": "BugJgq-pLZlR",
        "colab_type": "code",
        "colab": {
          "base_uri": "https://localhost:8080/",
          "height": 34
        },
        "outputId": "03132908-81a4-4e36-bc28-393469471ba0"
      },
      "source": [
        "l = [i for i in 'ACADGILD']\n",
        "print(l)"
      ],
      "execution_count": null,
      "outputs": [
        {
          "output_type": "stream",
          "text": [
            "['A', 'C', 'A', 'D', 'G', 'I', 'L', 'D']\n"
          ],
          "name": "stdout"
        }
      ]
    },
    {
      "cell_type": "code",
      "metadata": {
        "id": "9x5pc4zQLqRC",
        "colab_type": "code",
        "colab": {
          "base_uri": "https://localhost:8080/",
          "height": 34
        },
        "outputId": "ccd0670e-f5f0-43a4-d195-763020050525"
      },
      "source": [
        "a = [i * j for j in ['x', 'y', 'z'] for i in range(1, 5)]\n",
        "print(a)"
      ],
      "execution_count": null,
      "outputs": [
        {
          "output_type": "stream",
          "text": [
            "['x', 'xx', 'xxx', 'xxxx', 'y', 'yy', 'yyy', 'yyyy', 'z', 'zz', 'zzz', 'zzzz']\n"
          ],
          "name": "stdout"
        }
      ]
    },
    {
      "cell_type": "code",
      "metadata": {
        "id": "p5gDeJzRLyrz",
        "colab_type": "code",
        "colab": {
          "base_uri": "https://localhost:8080/",
          "height": 34
        },
        "outputId": "ccdcd5bd-a4c0-48cf-8113-fd783e2f0944"
      },
      "source": [
        "b = [i * j for j in range(1, 5) for i in ['x', 'y', 'z']]\n",
        "print(b)"
      ],
      "execution_count": null,
      "outputs": [
        {
          "output_type": "stream",
          "text": [
            "['x', 'y', 'z', 'xx', 'yy', 'zz', 'xxx', 'yyy', 'zzz', 'xxxx', 'yyyy', 'zzzz']\n"
          ],
          "name": "stdout"
        }
      ]
    },
    {
      "cell_type": "code",
      "metadata": {
        "id": "NgNf8uB7L6hs",
        "colab_type": "code",
        "colab": {
          "base_uri": "https://localhost:8080/",
          "height": 34
        },
        "outputId": "eba391b3-cc71-4ed8-c424-a52126990994"
      },
      "source": [
        "c = [[i + j] for j in [0, 1, 2] for i in range(2, 5)]\n",
        "print(c)"
      ],
      "execution_count": null,
      "outputs": [
        {
          "output_type": "stream",
          "text": [
            "[[2], [3], [4], [3], [4], [5], [4], [5], [6]]\n"
          ],
          "name": "stdout"
        }
      ]
    },
    {
      "cell_type": "code",
      "metadata": {
        "id": "aDz82H6lMkS0",
        "colab_type": "code",
        "colab": {
          "base_uri": "https://localhost:8080/",
          "height": 34
        },
        "outputId": "3844a18d-8ddf-47bc-c12d-3b0b6ef46fb4"
      },
      "source": [
        "d = [[i + j for j in [0, 1, 2, 3]] for i in range(2, 6)]\n",
        "print(d)"
      ],
      "execution_count": null,
      "outputs": [
        {
          "output_type": "stream",
          "text": [
            "[[2, 3, 4, 5], [3, 4, 5, 6], [4, 5, 6, 7], [5, 6, 7, 8]]\n"
          ],
          "name": "stdout"
        }
      ]
    },
    {
      "cell_type": "code",
      "metadata": {
        "id": "zwP_QyYRMmRh",
        "colab_type": "code",
        "colab": {
          "base_uri": "https://localhost:8080/",
          "height": 34
        },
        "outputId": "eadd2144-a91a-439f-cf39-f5dd82240ca3"
      },
      "source": [
        "e = [(i,j) for j in [1, 2, 3] for i in [1, 2, 3]]\n",
        "print(e)"
      ],
      "execution_count": null,
      "outputs": [
        {
          "output_type": "stream",
          "text": [
            "[(1, 1), (2, 1), (3, 1), (1, 2), (2, 2), (3, 2), (1, 3), (2, 3), (3, 3)]\n"
          ],
          "name": "stdout"
        }
      ]
    }
  ]
}